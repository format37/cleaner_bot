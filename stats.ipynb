{
 "cells": [
  {
   "cell_type": "code",
   "execution_count": 1,
   "metadata": {},
   "outputs": [],
   "source": [
    "import pandas as pd\n",
    "import seaborn as sns\n",
    "import matplotlib.pyplot as plt"
   ]
  },
  {
   "cell_type": "markdown",
   "metadata": {},
   "source": [
    "#### Init"
   ]
  },
  {
   "cell_type": "code",
   "execution_count": 2,
   "metadata": {},
   "outputs": [],
   "source": [
    "df = pd.DataFrame()\n",
    "df['user']=['Ирина','Дмитрий','Алексей']\n",
    "df['account_name']=['@IrinaYurasova','@format837','@format37']\n",
    "df['account_id']=['38470768','70753233','106129214']\n",
    "df['dish']=[1,1,0]\n",
    "df['garbage']=[4,0,2]\n",
    "df['toilet']=[0,0,0]"
   ]
  },
  {
   "cell_type": "code",
   "execution_count": 3,
   "metadata": {},
   "outputs": [],
   "source": [
    "df.to_csv('data.csv',index = None)"
   ]
  },
  {
   "cell_type": "markdown",
   "metadata": {},
   "source": [
    "#### Stats"
   ]
  },
  {
   "cell_type": "code",
   "execution_count": 4,
   "metadata": {},
   "outputs": [
    {
     "data": {
      "image/png": "[encoded data removed]",
      "text/plain": [
       "<Figure size 432x288 with 1 Axes>"
      ]
     },
     "metadata": {
      "needs_background": "light"
     },
     "output_type": "display_data"
    }
   ],
   "source": [
    "df_full = pd.read_csv('data.csv')\n",
    "df = pd.DataFrame()\n",
    "df['user']=df_full['user']\n",
    "df['dish']=df_full['dish']\n",
    "df['garbage']=df_full['garbage']\n",
    "df['toilet']=df_full['toilet']\n",
    "df = df.set_index('user')\n",
    "fig = plt.figure() # clean\n",
    "heat_map = sns.heatmap(df, annot=True, cmap=\"pink\", cbar = False)\n",
    "fig = heat_map.get_figure()\n",
    "image_path = 'images/heat_map.png'\n",
    "fig.savefig(image_path)"
   ]
  },
  {
   "cell_type": "markdown",
   "metadata": {},
   "source": [
    "#### alert"
   ]
  },
  {
   "cell_type": "code",
   "execution_count": 5,
   "metadata": {},
   "outputs": [
    {
     "data": {
      "text/plain": [
       "'@format37 dish'"
      ]
     },
     "execution_count": 5,
     "metadata": {},
     "output_type": "execute_result"
    }
   ],
   "source": [
    "task = 'dish'\n",
    "df_full = pd.read_csv('data.csv')\n",
    "df = pd.DataFrame()\n",
    "df['user']=df_full['user']\n",
    "df['account_name']=df_full['account_name']\n",
    "df['account_id']=df_full['account_id']\n",
    "df[task]=df_full[task]\n",
    "min_count = df[task].min()\n",
    "actual_users = df[df[task]==min_count]\n",
    "message_string = ''\n",
    "for a_name in actual_users.account_name:\n",
    "    message_string += a_name + ' '\n",
    "message_string += task\n",
    "message_string"
   ]
  },
  {
   "cell_type": "markdown",
   "metadata": {},
   "source": [
    "#### counter minus"
   ]
  },
  {
   "cell_type": "code",
   "execution_count": 6,
   "metadata": {},
   "outputs": [
    {
     "data": {
      "text/html": [
       "<div>\n",
       "<style scoped>\n",
       "    .dataframe tbody tr th:only-of-type {\n",
       "        vertical-align: middle;\n",
       "    }\n",
       "\n",
       "    .dataframe tbody tr th {\n",
       "        vertical-align: top;\n",
       "    }\n",
       "\n",
       "    .dataframe thead th {\n",
       "        text-align: right;\n",
       "    }\n",
       "</style>\n",
       "<table border=\"1\" class=\"dataframe\">\n",
       "  <thead>\n",
       "    <tr style=\"text-align: right;\">\n",
       "      <th></th>\n",
       "      <th>user</th>\n",
       "      <th>account_name</th>\n",
       "      <th>account_id</th>\n",
       "      <th>dish</th>\n",
       "      <th>garbage</th>\n",
       "      <th>toilet</th>\n",
       "    </tr>\n",
       "  </thead>\n",
       "  <tbody>\n",
       "    <tr>\n",
       "      <th>0</th>\n",
       "      <td>Ирина</td>\n",
       "      <td>@IrinaYurasova</td>\n",
       "      <td>38470768</td>\n",
       "      <td>1</td>\n",
       "      <td>4</td>\n",
       "      <td>0</td>\n",
       "    </tr>\n",
       "    <tr>\n",
       "      <th>1</th>\n",
       "      <td>Дмитрий</td>\n",
       "      <td>@format837</td>\n",
       "      <td>70753233</td>\n",
       "      <td>1</td>\n",
       "      <td>0</td>\n",
       "      <td>0</td>\n",
       "    </tr>\n",
       "    <tr>\n",
       "      <th>2</th>\n",
       "      <td>Алексей</td>\n",
       "      <td>@format37</td>\n",
       "      <td>106129214</td>\n",
       "      <td>0</td>\n",
       "      <td>2</td>\n",
       "      <td>0</td>\n",
       "    </tr>\n",
       "  </tbody>\n",
       "</table>\n",
       "</div>"
      ],
      "text/plain": [
       "      user    account_name  account_id  dish  garbage  toilet\n",
       "0    Ирина  @IrinaYurasova    38470768     1        4       0\n",
       "1  Дмитрий      @format837    70753233     1        0       0\n",
       "2  Алексей       @format37   106129214     0        2       0"
      ]
     },
     "execution_count": 6,
     "metadata": {},
     "output_type": "execute_result"
    }
   ],
   "source": [
    "df_full"
   ]
  },
  {
   "cell_type": "code",
   "execution_count": 7,
   "metadata": {},
   "outputs": [
    {
     "name": "stdout",
     "output_type": "stream",
     "text": [
      "task not found: \"dish_\"\n"
     ]
    }
   ],
   "source": [
    "task = 'dish_'\n",
    "account_id = 106129214\n",
    "if task in df_full.columns:\n",
    "    df_full = pd.read_csv('data.csv')\n",
    "    current_value = int(df_full[df_full.account_id==account_id][task])\n",
    "    df_full.loc[(df_full.account_id==account_id),task]=current_value-1\n",
    "    df_full.to_csv('data.csv',index = None)\n",
    "    df_full\n",
    "else:\n",
    "    print('task not found: \"'+task+'\"')"
   ]
  }
 ],
 "metadata": {
  "kernelspec": {
   "display_name": "Python 3",
   "language": "python",
   "name": "python3"
  },
  "language_info": {
   "codemirror_mode": {
    "name": "ipython",
    "version": 3
   },
   "file_extension": ".py",
   "mimetype": "text/x-python",
   "name": "python",
   "nbconvert_exporter": "python",
   "pygments_lexer": "ipython3",
   "version": "3.7.6"
  }
 },
 "nbformat": 4,
 "nbformat_minor": 4
}
