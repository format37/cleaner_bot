{
 "cells": [
  {
   "cell_type": "code",
   "execution_count": 19,
   "metadata": {},
   "outputs": [],
   "source": [
    "import pandas as pd\n",
    "import seaborn as sns"
   ]
  },
  {
   "cell_type": "markdown",
   "metadata": {},
   "source": [
    "#### Init"
   ]
  },
  {
   "cell_type": "code",
   "execution_count": 231,
   "metadata": {},
   "outputs": [],
   "source": [
    "df = pd.DataFrame()\n",
    "df['user']=['Ирина','Дмитрий','Алексей']\n",
    "df['account_name']=['@IrinaYurasova','@format837','@format37']\n",
    "df['account_id']=['38470768','70753233','106129214']\n",
    "df['посуда']=[0,1,0]\n",
    "df['мусор']=[1,1,0]\n",
    "df['туалет']=[1,0,1]"
   ]
  },
  {
   "cell_type": "code",
   "execution_count": 232,
   "metadata": {},
   "outputs": [],
   "source": [
    "df.to_csv('data.csv',index = None)"
   ]
  },
  {
   "cell_type": "markdown",
   "metadata": {},
   "source": [
    "#### Stats"
   ]
  },
  {
   "cell_type": "code",
   "execution_count": 233,
   "metadata": {},
   "outputs": [
    {
     "data": {
      "image/png": "[encoded data removed]",
      "text/plain": [
       "<Figure size 432x288 with 2 Axes>"
      ]
     },
     "metadata": {
      "needs_background": "light"
     },
     "output_type": "display_data"
    }
   ],
   "source": [
    "df_full = pd.read_csv('data.csv')\n",
    "df = pd.DataFrame()\n",
    "df['user']=df_full['user']\n",
    "df['Посуда']=df_full['посуда']\n",
    "df['Мусор']=df_full['мусор']\n",
    "df['Туалет']=df_full['туалет']\n",
    "df = df.set_index('user')\n",
    "heat_map = sns.heatmap(df, annot=True, cmap=\"YlGnBu\")\n",
    "fig = heat_map.get_figure()\n",
    "fig.savefig(\"heat_map.png\")"
   ]
  },
  {
   "cell_type": "markdown",
   "metadata": {},
   "source": [
    "#### alert"
   ]
  },
  {
   "cell_type": "code",
   "execution_count": 234,
   "metadata": {},
   "outputs": [
    {
     "data": {
      "text/plain": [
       "'@IrinaYurasova @format37 посуда'"
      ]
     },
     "execution_count": 234,
     "metadata": {},
     "output_type": "execute_result"
    }
   ],
   "source": [
    "task = 'посуда'\n",
    "df_full = pd.read_csv('data.csv')\n",
    "df = pd.DataFrame()\n",
    "df['user']=df_full['user']\n",
    "df['account_name']=df_full['account_name']\n",
    "df['account_id']=df_full['account_id']\n",
    "df[task]=df_full[task]\n",
    "min_count = df[task].min()\n",
    "actual_users = df[df[task]==min_count]\n",
    "message_string = ''\n",
    "for a_name in actual_users.account_name:\n",
    "    message_string += a_name + ' '\n",
    "message_string += task\n",
    "message_string"
   ]
  }
 ],
 "metadata": {
  "kernelspec": {
   "display_name": "Python 3",
   "language": "python",
   "name": "python3"
  },
  "language_info": {
   "codemirror_mode": {
    "name": "ipython",
    "version": 3
   },
   "file_extension": ".py",
   "mimetype": "text/x-python",
   "name": "python",
   "nbconvert_exporter": "python",
   "pygments_lexer": "ipython3",
   "version": "3.7.6"
  }
 },
 "nbformat": 4,
 "nbformat_minor": 4
}
